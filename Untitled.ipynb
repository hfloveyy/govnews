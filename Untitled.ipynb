{
 "cells": [
  {
   "cell_type": "code",
   "execution_count": 2,
   "metadata": {},
   "outputs": [
    {
     "data": {
      "text/plain": [
       "'file://D:\\\\hf_files\\\\ai\\\\spiderprojects\\\\govnews\\\\govnews.html'"
      ]
     },
     "execution_count": 2,
     "metadata": {},
     "output_type": "execute_result"
    }
   ],
   "source": [
    "import plotly.offline as py\n",
    "import plotly.graph_objs as go\n",
    "\n",
    "\n",
    "\n",
    "data = [go.Bar(\n",
    "            x = ['aa','bb','cc','dd'],\n",
    "            #x=['发展','中国','经济','企业','合作','改革','国家','创新','增长','建设','工作','推进','李克强','总理','服务','推动','我国','投资','加强','问题'],\n",
    "            y=[20, 14, 23,21]\n",
    "    )]\n",
    "layout = go.Layout(\n",
    "    xaxis=dict(tickangle=-45),\n",
    "    barmode='group',\n",
    ")\n",
    "fig = go.Figure(data=data, layout=layout)\n",
    "py.plot(fig, filename='govnews.html')"
   ]
  },
  {
   "cell_type": "code",
   "execution_count": null,
   "metadata": {},
   "outputs": [],
   "source": []
  }
 ],
 "metadata": {
  "kernelspec": {
   "display_name": "Python 3",
   "language": "python",
   "name": "python3"
  },
  "language_info": {
   "codemirror_mode": {
    "name": "ipython",
    "version": 3
   },
   "file_extension": ".py",
   "mimetype": "text/x-python",
   "name": "python",
   "nbconvert_exporter": "python",
   "pygments_lexer": "ipython3",
   "version": "3.6.3"
  }
 },
 "nbformat": 4,
 "nbformat_minor": 2
}
